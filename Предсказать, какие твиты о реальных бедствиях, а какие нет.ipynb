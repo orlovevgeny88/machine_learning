{
 "cells": [
  {
   "cell_type": "code",
   "execution_count": 476,
   "id": "f36aecdf",
   "metadata": {},
   "outputs": [
    {
     "name": "stderr",
     "output_type": "stream",
     "text": [
      "[nltk_data] Downloading package punkt to\n",
      "[nltk_data]     C:\\Users\\orlov\\AppData\\Roaming\\nltk_data...\n",
      "[nltk_data]   Package punkt is already up-to-date!\n"
     ]
    }
   ],
   "source": [
    "import numpy as np\n",
    "import pandas as pd\n",
    "import re\n",
    "from sklearn.model_selection import train_test_split\n",
    "from sklearn.feature_extraction.text import CountVectorizer\n",
    "from sklearn.ensemble import RandomForestClassifier\n",
    "from sklearn.feature_extraction.text import TfidfVectorizer\n",
    "from sklearn.linear_model import LogisticRegression\n",
    "from sklearn.metrics import accuracy_score\n",
    "import matplotlib.pyplot as plt\n",
    "from sklearn.metrics import confusion_matrix, ConfusionMatrixDisplay\n",
    "from nltk.tokenize import word_tokenize\n",
    "from tqdm import tqdm\n",
    "import nltk\n",
    "nltk.download('punkt')\n"
   ]
  },
  {
   "cell_type": "code",
   "execution_count": 477,
   "id": "e1882796",
   "metadata": {},
   "outputs": [],
   "source": [
    "def conf_matrix(val, pred):\n",
    "    '''Визуализация матрицы ошибок'''\n",
    "    cm = confusion_matrix(val, pred)\n",
    "    disp = ConfusionMatrixDisplay(confusion_matrix=cm)\n",
    "    disp.plot()\n",
    "    plt.show()"
   ]
  },
  {
   "cell_type": "code",
   "execution_count": 491,
   "id": "9f0a90fd",
   "metadata": {
    "scrolled": false
   },
   "outputs": [
    {
     "data": {
      "text/html": [
       "<div>\n",
       "<style scoped>\n",
       "    .dataframe tbody tr th:only-of-type {\n",
       "        vertical-align: middle;\n",
       "    }\n",
       "\n",
       "    .dataframe tbody tr th {\n",
       "        vertical-align: top;\n",
       "    }\n",
       "\n",
       "    .dataframe thead th {\n",
       "        text-align: right;\n",
       "    }\n",
       "</style>\n",
       "<table border=\"1\" class=\"dataframe\">\n",
       "  <thead>\n",
       "    <tr style=\"text-align: right;\">\n",
       "      <th></th>\n",
       "      <th>id</th>\n",
       "      <th>keyword</th>\n",
       "      <th>location</th>\n",
       "      <th>text</th>\n",
       "      <th>target</th>\n",
       "    </tr>\n",
       "  </thead>\n",
       "  <tbody>\n",
       "    <tr>\n",
       "      <th>0</th>\n",
       "      <td>1</td>\n",
       "      <td>NaN</td>\n",
       "      <td>NaN</td>\n",
       "      <td>Our Deeds are the Reason of this #earthquake M...</td>\n",
       "      <td>1</td>\n",
       "    </tr>\n",
       "    <tr>\n",
       "      <th>1</th>\n",
       "      <td>4</td>\n",
       "      <td>NaN</td>\n",
       "      <td>NaN</td>\n",
       "      <td>Forest fire near La Ronge Sask. Canada</td>\n",
       "      <td>1</td>\n",
       "    </tr>\n",
       "    <tr>\n",
       "      <th>2</th>\n",
       "      <td>5</td>\n",
       "      <td>NaN</td>\n",
       "      <td>NaN</td>\n",
       "      <td>All residents asked to 'shelter in place' are ...</td>\n",
       "      <td>1</td>\n",
       "    </tr>\n",
       "    <tr>\n",
       "      <th>3</th>\n",
       "      <td>6</td>\n",
       "      <td>NaN</td>\n",
       "      <td>NaN</td>\n",
       "      <td>13,000 people receive #wildfires evacuation or...</td>\n",
       "      <td>1</td>\n",
       "    </tr>\n",
       "    <tr>\n",
       "      <th>4</th>\n",
       "      <td>7</td>\n",
       "      <td>NaN</td>\n",
       "      <td>NaN</td>\n",
       "      <td>Just got sent this photo from Ruby #Alaska as ...</td>\n",
       "      <td>1</td>\n",
       "    </tr>\n",
       "  </tbody>\n",
       "</table>\n",
       "</div>"
      ],
      "text/plain": [
       "   id keyword location                                               text  \\\n",
       "0   1     NaN      NaN  Our Deeds are the Reason of this #earthquake M...   \n",
       "1   4     NaN      NaN             Forest fire near La Ronge Sask. Canada   \n",
       "2   5     NaN      NaN  All residents asked to 'shelter in place' are ...   \n",
       "3   6     NaN      NaN  13,000 people receive #wildfires evacuation or...   \n",
       "4   7     NaN      NaN  Just got sent this photo from Ruby #Alaska as ...   \n",
       "\n",
       "   target  \n",
       "0       1  \n",
       "1       1  \n",
       "2       1  \n",
       "3       1  \n",
       "4       1  "
      ]
     },
     "execution_count": 491,
     "metadata": {},
     "output_type": "execute_result"
    }
   ],
   "source": [
    "df = pd.read_csv('Disaster Tweets_Train.csv')\n",
    "df.head()"
   ]
  },
  {
   "cell_type": "markdown",
   "id": "438997ac",
   "metadata": {},
   "source": [
    "Посмотрим на распределения длин текстов в разных классах"
   ]
  },
  {
   "cell_type": "code",
   "execution_count": 492,
   "id": "43f99088",
   "metadata": {},
   "outputs": [
    {
     "data": {
      "image/png": "[encoded data removed]",
      "text/plain": [
       "<Figure size 432x288 with 1 Axes>"
      ]
     },
     "metadata": {
      "needs_background": "light"
     },
     "output_type": "display_data"
    }
   ],
   "source": [
    "from nltk.tokenize import RegexpTokenizer\n",
    "\n",
    "tokenizer = RegexpTokenizer(r'\\w+')\n",
    "\n",
    "df['tokens'] = df.text.apply(tokenizer.tokenize)\n",
    "df['len_word'] = df.tokens.apply(lambda x: len(x))\n",
    "\n",
    "plt.hist(df.len_word.loc[df.target == 1], bins=10, color='r', alpha = 0.5, label= 1)\n",
    "plt.hist(df.len_word.loc[df.target == 0], bins=10, color='b', alpha = 0.5, label= 0)\n",
    "plt.xlabel('Длинна текста')\n",
    "plt.ylabel('Количество')\n",
    "\n",
    "plt.legend()\n",
    "plt.show()"
   ]
  },
  {
   "cell_type": "markdown",
   "id": "404f9b2f",
   "metadata": {},
   "source": [
    "Среди коротких постов(менее 15 слов) перевес в сторону нулевого класса"
   ]
  },
  {
   "cell_type": "markdown",
   "id": "1a82f098",
   "metadata": {},
   "source": [
    "# Посмотрим на баланс классов"
   ]
  },
  {
   "cell_type": "code",
   "execution_count": 493,
   "id": "0a549df1",
   "metadata": {
    "scrolled": false
   },
   "outputs": [
    {
     "data": {
      "text/plain": [
       "0    4342\n",
       "1    3271\n",
       "Name: target, dtype: int64"
      ]
     },
     "execution_count": 493,
     "metadata": {},
     "output_type": "execute_result"
    }
   ],
   "source": [
    "df.target.value_counts()"
   ]
  },
  {
   "cell_type": "markdown",
   "id": "60f91af1",
   "metadata": {},
   "source": [
    "В качестве метрики будем ориентироваться на Accuracy т.к. дисбаланса классов не наблюдается"
   ]
  },
  {
   "cell_type": "markdown",
   "id": "8923916f",
   "metadata": {},
   "source": [
    "# Немного обработаем данные. Приведем все к нижнему регистру,оставим только английские слова и цифры,и удалим лишние пробелы"
   ]
  },
  {
   "cell_type": "code",
   "execution_count": 494,
   "id": "8ae122ed",
   "metadata": {
    "scrolled": true
   },
   "outputs": [
    {
     "data": {
      "text/plain": [
       "0    our deeds are the reason of this earthquake ma...\n",
       "1                forest fire near la ronge sask canada\n",
       "2    all residents asked to shelter in place are be...\n",
       "3    13 000 people receive wildfires evacuation ord...\n",
       "4    just got sent this photo from ruby alaska as s...\n",
       "Name: text, dtype: object"
      ]
     },
     "execution_count": 494,
     "metadata": {},
     "output_type": "execute_result"
    }
   ],
   "source": [
    "df.text = df.text.apply(lambda x: x.lower())\n",
    "df.text = df.text.apply(lambda x: re.sub('[^a-zA-Z0-9]', ' ', x))\n",
    "df.text = df.text.apply(lambda x: re.sub(r'\\s+', ' ', x))\n",
    "df.text.head()"
   ]
  },
  {
   "cell_type": "markdown",
   "id": "d4777935",
   "metadata": {},
   "source": [
    "Начнем с логистической регресии, и попробуем её в комбинации с CountVectorizer и TfidfVectorizer"
   ]
  },
  {
   "cell_type": "code",
   "execution_count": 496,
   "id": "0987b085",
   "metadata": {
    "scrolled": true
   },
   "outputs": [
    {
     "name": "stdout",
     "output_type": "stream",
     "text": [
      "Accuracy: 0.814\n"
     ]
    },
    {
     "data": {
      "image/png": "[encoded data removed]",
      "text/plain": [
       "<Figure size 432x288 with 2 Axes>"
      ]
     },
     "metadata": {
      "needs_background": "light"
     },
     "output_type": "display_data"
    }
   ],
   "source": [
    "vec = CountVectorizer(ngram_range=(1, 2))\n",
    "bow = vec.fit_transform(df.text)\n",
    "X_train, X_test, y_train, y_test = train_test_split(bow, df.target, test_size=0.2, random_state=42)\n",
    "model = LogisticRegression()\n",
    "model.fit(X_train, y_train)\n",
    "predicted = model.predict(X_test)\n",
    "print(f'Accuracy: {round(accuracy_score(y_test, predicted),3)}')\n",
    "conf_matrix(y_test, predicted)"
   ]
  },
  {
   "cell_type": "markdown",
   "id": "1883115f",
   "metadata": {},
   "source": [
    "Лучший вариант получается учитывая униграммы и биграммы"
   ]
  },
  {
   "cell_type": "code",
   "execution_count": 497,
   "id": "10570644",
   "metadata": {
    "scrolled": true
   },
   "outputs": [
    {
     "name": "stdout",
     "output_type": "stream",
     "text": [
      "Accuracy: 0.802\n"
     ]
    },
    {
     "data": {
      "image/png": "[encoded data removed]",
      "text/plain": [
       "<Figure size 432x288 with 2 Axes>"
      ]
     },
     "metadata": {
      "needs_background": "light"
     },
     "output_type": "display_data"
    }
   ],
   "source": [
    "#Пробуем векторизацию на основе tf idf\n",
    "vec = TfidfVectorizer()\n",
    "bow = vec.fit_transform(df.text)\n",
    "X_train, X_test, y_train, y_test = train_test_split(bow, df.target, test_size=0.2, random_state=42)\n",
    "model = LogisticRegression()\n",
    "model.fit(X_train, y_train)\n",
    "predicted = model.predict(X_test)\n",
    "print(f'Accuracy: {round(accuracy_score(y_test, predicted),3)}')\n",
    "conf_matrix(y_test, predicted)"
   ]
  },
  {
   "cell_type": "markdown",
   "id": "ac561afa",
   "metadata": {},
   "source": [
    "Попробуем классификатор на основе решающих деревьев, в комбинации с CountVectorizer и TfidfVectorizer"
   ]
  },
  {
   "cell_type": "code",
   "execution_count": 465,
   "id": "33802162",
   "metadata": {
    "scrolled": true
   },
   "outputs": [
    {
     "name": "stdout",
     "output_type": "stream",
     "text": [
      "Accuracy: 0.78\n"
     ]
    },
    {
     "data": {
      "image/png": "[encoded data removed]",
      "text/plain": [
       "<Figure size 432x288 with 2 Axes>"
      ]
     },
     "metadata": {
      "needs_background": "light"
     },
     "output_type": "display_data"
    }
   ],
   "source": [
    "vec = CountVectorizer(ngram_range=(1, 2))\n",
    "bow = vec.fit_transform(df.text)\n",
    "X_train, X_test, y_train, y_test = train_test_split(bow, df.target, test_size=0.2, random_state=42)\n",
    "model = RandomForestClassifier()\n",
    "model.fit(X_train, y_train)\n",
    "predicted = model.predict(X_test)\n",
    "print(f'Accuracy: {round(accuracy_score(y_test, predicted),3)}')\n",
    "conf_matrix(y_test, predicted)"
   ]
  },
  {
   "cell_type": "code",
   "execution_count": 474,
   "id": "43fbe6b3",
   "metadata": {},
   "outputs": [
    {
     "name": "stdout",
     "output_type": "stream",
     "text": [
      "Accuracy: 0.772\n"
     ]
    },
    {
     "data": {
      "image/png": "[encoded data removed]",
      "text/plain": [
       "<Figure size 432x288 with 2 Axes>"
      ]
     },
     "metadata": {
      "needs_background": "light"
     },
     "output_type": "display_data"
    }
   ],
   "source": [
    "vec = TfidfVectorizer()\n",
    "bow = vec.fit_transform(df.text)\n",
    "X_train, X_test, y_train, y_test = train_test_split(bow, df.target, test_size=0.2, random_state=42)\n",
    "model = RandomForestClassifier()\n",
    "model.fit(X_train, y_train)\n",
    "predicted = model.predict(X_test)\n",
    "print(f'Accuracy: {round(accuracy_score(y_test, predicted),3)}')\n",
    "conf_matrix(y_test, predicted)"
   ]
  },
  {
   "cell_type": "markdown",
   "id": "197db7e6",
   "metadata": {},
   "source": [
    "Обучим Word2Vec"
   ]
  },
  {
   "cell_type": "code",
   "execution_count": 537,
   "id": "199d1644",
   "metadata": {},
   "outputs": [
    {
     "name": "stdout",
     "output_type": "stream",
     "text": [
      "Wall time: 10.9 s\n"
     ]
    }
   ],
   "source": [
    "from gensim.models.word2vec import Word2Vec\n",
    "%time model_tweets = Word2Vec(df.tokens, workers=4, vector_size=300, min_count=2, window=5, epochs=45)"
   ]
  },
  {
   "cell_type": "markdown",
   "id": "32550fd3",
   "metadata": {},
   "source": [
    "Посмотрим на симантически близкие слова к слову \"Катастрофа\""
   ]
  },
  {
   "cell_type": "code",
   "execution_count": 538,
   "id": "f7c76d55",
   "metadata": {
    "scrolled": false
   },
   "outputs": [
    {
     "data": {
      "text/plain": [
       "[('natural', 0.8474053740501404),\n",
       " ('calamity', 0.7646089792251587),\n",
       " ('Chernobyl', 0.719546914100647),\n",
       " ('nuclear', 0.708290696144104),\n",
       " ('Fukushima', 0.695774257183075),\n",
       " ('declares', 0.6769752502441406),\n",
       " ('Obama', 0.6538925766944885),\n",
       " ('ticket', 0.650634765625),\n",
       " ('drill', 0.6490073800086975),\n",
       " ('Typhoon', 0.6416929960250854)]"
      ]
     },
     "execution_count": 538,
     "metadata": {},
     "output_type": "execute_result"
    }
   ],
   "source": [
    "model_tweets.wv.most_similar('disaster')"
   ]
  },
  {
   "cell_type": "markdown",
   "id": "5dada94f",
   "metadata": {},
   "source": [
    "Получилось неплохо"
   ]
  },
  {
   "cell_type": "code",
   "execution_count": 557,
   "id": "5f7559b5",
   "metadata": {},
   "outputs": [
    {
     "data": {
      "text/plain": [
       "[('black', 0.6922954320907593),\n",
       " ('ocean', 0.6811925172805786),\n",
       " ('bottom', 0.6739025115966797),\n",
       " ('riot', 0.6646307706832886),\n",
       " ('valley', 0.6629976630210876),\n",
       " ('ground', 0.65892094373703),\n",
       " ('tent', 0.636087954044342),\n",
       " ('many', 0.632262647151947),\n",
       " ('work', 0.6288415789604187),\n",
       " ('crack', 0.6221959590911865)]"
      ]
     },
     "execution_count": 557,
     "metadata": {},
     "output_type": "execute_result"
    }
   ],
   "source": [
    "model_tweets.wv.most_similar('sea')"
   ]
  },
  {
   "cell_type": "markdown",
   "id": "12abaf94",
   "metadata": {},
   "source": [
    "Для слова \"Sea\" получилось хуже"
   ]
  },
  {
   "cell_type": "code",
   "execution_count": 563,
   "id": "d2af79d6",
   "metadata": {},
   "outputs": [],
   "source": [
    "def get_text_embedding(text):\n",
    "    \"\"\"Функция получает эмбедденги из текстов.\n",
    "    находит слова в словаре искладывает их.\n",
    "    Если в тексте не нашлось слов, которые в нашем словаре Word2Vec,\n",
    "    Вектор заполняется нулями\"\"\"\n",
    "    result = []\n",
    "    for words in text:\n",
    "        for word in words:\n",
    "            if word in model_tweets.wv:\n",
    "                result.append(model_tweets.wv[word])\n",
    "\n",
    "        if len(result):\n",
    "            result = np.sum(result, axis=0)\n",
    "        else:\n",
    "            result = np.zeros(300)\n",
    "        return result"
   ]
  },
  {
   "cell_type": "code",
   "execution_count": 564,
   "id": "a2d144bd",
   "metadata": {
    "scrolled": true
   },
   "outputs": [
    {
     "name": "stderr",
     "output_type": "stream",
     "text": [
      "100%|███████████████████████████████████████████████████████████████████████████| 7613/7613 [00:00<00:00, 19721.93it/s]\n"
     ]
    }
   ],
   "source": [
    "features = [get_text_embedding(text) for text in tqdm(df.tokens)]\n"
   ]
  },
  {
   "cell_type": "code",
   "execution_count": 566,
   "id": "ee6fe3ec",
   "metadata": {},
   "outputs": [
    {
     "name": "stdout",
     "output_type": "stream",
     "text": [
      "              precision    recall  f1-score   support\n",
      "\n",
      "           0       0.63      0.58      0.60       881\n",
      "           1       0.48      0.52      0.50       642\n",
      "\n",
      "    accuracy                           0.56      1523\n",
      "   macro avg       0.55      0.55      0.55      1523\n",
      "weighted avg       0.56      0.56      0.56      1523\n",
      "\n"
     ]
    }
   ],
   "source": [
    "X_train, X_test, y_train, y_test = train_test_split(features, df.target, test_size=0.2)\n",
    "model = LogisticRegression(max_iter=1000, class_weight='balanced')\n",
    "model.fit(X_train, y_train)\n",
    "predicted = model.predict(X_test)\n",
    "print(classification_report(y_test, predicted))\n"
   ]
  },
  {
   "cell_type": "markdown",
   "id": "bc19bbf9",
   "metadata": {},
   "source": [
    "Результат не очень"
   ]
  },
  {
   "cell_type": "markdown",
   "id": "502fdef8",
   "metadata": {},
   "source": [
    "# Попробуем скачать предобученную модель Word2Vec обученную на большом корпусе слов"
   ]
  },
  {
   "cell_type": "code",
   "execution_count": 272,
   "id": "25f6757b",
   "metadata": {},
   "outputs": [
    {
     "name": "stdout",
     "output_type": "stream",
     "text": [
      "['fasttext-wiki-news-subwords-300', 'conceptnet-numberbatch-17-06-300', 'word2vec-ruscorpora-300', 'word2vec-google-news-300', 'glove-wiki-gigaword-50', 'glove-wiki-gigaword-100', 'glove-wiki-gigaword-200', 'glove-wiki-gigaword-300', 'glove-twitter-25', 'glove-twitter-50', 'glove-twitter-100', 'glove-twitter-200', '__testing_word2vec-matrix-synopsis']\n"
     ]
    }
   ],
   "source": [
    "import gensim.downloader\n",
    "\n",
    "print(list(gensim.downloader.info()['models'].keys()))"
   ]
  },
  {
   "cell_type": "code",
   "execution_count": 435,
   "id": "e79c9e21",
   "metadata": {},
   "outputs": [
    {
     "name": "stdout",
     "output_type": "stream",
     "text": [
      "[==================================================] 100.0% 958.5/958.4MB downloaded\n"
     ]
    }
   ],
   "source": [
    "glove_vectors = gensim.downloader.load('fasttext-wiki-news-subwords-300')"
   ]
  },
  {
   "cell_type": "code",
   "execution_count": 568,
   "id": "2260e973",
   "metadata": {},
   "outputs": [
    {
     "data": {
      "text/plain": [
       "[('catastrophe', 0.8395509719848633),\n",
       " ('disasters', 0.8315500617027283),\n",
       " ('calamity', 0.7899965643882751),\n",
       " ('disaster-', 0.7756001949310303),\n",
       " ('pre-disaster', 0.7697495818138123),\n",
       " ('post-disaster', 0.7656727433204651),\n",
       " ('non-disaster', 0.7601431012153625),\n",
       " ('near-disaster', 0.7580682635307312),\n",
       " ('predisaster', 0.7567157745361328),\n",
       " ('postdisaster', 0.7375972270965576)]"
      ]
     },
     "execution_count": 568,
     "metadata": {},
     "output_type": "execute_result"
    }
   ],
   "source": [
    "glove_vectors.most_similar('disaster')"
   ]
  },
  {
   "cell_type": "code",
   "execution_count": 572,
   "id": "dd4067c4",
   "metadata": {},
   "outputs": [],
   "source": [
    "def get_text_embedding1(text):\n",
    "    result = []\n",
    "    for word in word_tokenize(text.lower()):\n",
    "        if word in glove_vectors:\n",
    "            result.append(glove_vectors[word])\n",
    "\n",
    "    if len(result):\n",
    "        result = np.mean(result, axis=0)\n",
    "    else:\n",
    "        result = np.zeros(300)\n",
    "    return result"
   ]
  },
  {
   "cell_type": "code",
   "execution_count": 573,
   "id": "f2361898",
   "metadata": {
    "scrolled": true
   },
   "outputs": [
    {
     "name": "stderr",
     "output_type": "stream",
     "text": [
      "\n",
      "  0%|                                                                                         | 0/7613 [00:00<?, ?it/s]\u001b[A\n",
      "  2%|█▊                                                                           | 180/7613 [00:00<00:04, 1698.01it/s]\u001b[A\n",
      "  6%|████▋                                                                        | 464/7613 [00:00<00:03, 2173.95it/s]\u001b[A\n",
      " 10%|███████▌                                                                     | 752/7613 [00:00<00:02, 2383.37it/s]\u001b[A\n",
      " 14%|██████████▎                                                                 | 1038/7613 [00:00<00:02, 2560.40it/s]\u001b[A\n",
      " 18%|█████████████▍                                                              | 1347/7613 [00:00<00:02, 2604.11it/s]\u001b[A\n",
      " 21%|████████████████                                                            | 1608/7613 [00:00<00:02, 2596.65it/s]\u001b[A\n",
      " 25%|██████████████████▉                                                         | 1898/7613 [00:00<00:02, 2568.69it/s]\u001b[A\n",
      " 28%|█████████████████████▌                                                      | 2157/7613 [00:00<00:02, 2559.17it/s]\u001b[A\n",
      " 32%|████████████████████████                                                    | 2414/7613 [00:00<00:02, 2339.23it/s]\u001b[A\n",
      " 35%|██████████████████████████▍                                                 | 2651/7613 [00:01<00:02, 2331.17it/s]\u001b[A\n",
      " 38%|████████████████████████████▊                                               | 2887/7613 [00:01<00:02, 2312.94it/s]\u001b[A\n",
      " 41%|███████████████████████████████▏                                            | 3120/7613 [00:01<00:02, 2129.93it/s]\u001b[A\n",
      " 44%|█████████████████████████████████▎                                          | 3337/7613 [00:01<00:02, 1877.09it/s]\u001b[A\n",
      " 46%|███████████████████████████████████▏                                        | 3531/7613 [00:01<00:02, 1873.56it/s]\u001b[A\n",
      " 50%|██████████████████████████████████████▏                                     | 3820/7613 [00:01<00:01, 2118.79it/s]\u001b[A\n",
      " 54%|████████████████████████████████████████▊                                   | 4083/7613 [00:01<00:01, 2235.13it/s]\u001b[A\n",
      " 58%|███████████████████████████████████████████▊                                | 4388/7613 [00:01<00:01, 2364.44it/s]\u001b[A\n",
      " 61%|██████████████████████████████████████████████▏                             | 4628/7613 [00:02<00:01, 2307.33it/s]\u001b[A\n",
      " 64%|████████████████████████████████████████████████▊                           | 4893/7613 [00:02<00:01, 2355.15it/s]\u001b[A\n",
      " 68%|███████████████████████████████████████████████████▉                        | 5199/7613 [00:02<00:00, 2446.02it/s]\u001b[A\n",
      " 72%|██████████████████████████████████████████████████████▎                     | 5445/7613 [00:02<00:00, 2428.99it/s]\u001b[A\n",
      " 75%|█████████████████████████████████████████████████████████                   | 5713/7613 [00:02<00:00, 2401.46it/s]\u001b[A\n",
      " 78%|███████████████████████████████████████████████████████████▍                | 5954/7613 [00:02<00:00, 2284.15it/s]\u001b[A\n",
      " 81%|█████████████████████████████████████████████████████████████▋              | 6184/7613 [00:02<00:00, 2087.17it/s]\u001b[A\n",
      " 84%|███████████████████████████████████████████████████████████████▊            | 6396/7613 [00:02<00:00, 1938.24it/s]\u001b[A\n",
      " 87%|█████████████████████████████████████████████████████████████████▊          | 6594/7613 [00:02<00:00, 1938.48it/s]\u001b[A\n",
      " 90%|████████████████████████████████████████████████████████████████████▌       | 6869/7613 [00:03<00:00, 2082.96it/s]\u001b[A\n",
      " 93%|██████████████████████████████████████████████████████████████████████▉     | 7100/7613 [00:03<00:00, 2138.66it/s]\u001b[A\n",
      " 96%|█████████████████████████████████████████████████████████████████████████   | 7316/7613 [00:03<00:00, 2075.24it/s]\u001b[A\n",
      "100%|████████████████████████████████████████████████████████████████████████████| 7613/7613 [00:03<00:00, 2193.27it/s]\u001b[A\n"
     ]
    }
   ],
   "source": [
    "features = [get_text_embedding1(text) for text in tqdm(df.text)]\n"
   ]
  },
  {
   "cell_type": "markdown",
   "id": "0eb84960",
   "metadata": {},
   "source": [
    "# Результат заметно лучше."
   ]
  },
  {
   "cell_type": "code",
   "execution_count": 574,
   "id": "669423f5",
   "metadata": {
    "scrolled": true
   },
   "outputs": [
    {
     "name": "stdout",
     "output_type": "stream",
     "text": [
      "              precision    recall  f1-score   support\n",
      "\n",
      "           0       0.79      0.87      0.83       874\n",
      "           1       0.80      0.68      0.74       649\n",
      "\n",
      "    accuracy                           0.79      1523\n",
      "   macro avg       0.79      0.78      0.78      1523\n",
      "weighted avg       0.79      0.79      0.79      1523\n",
      "\n"
     ]
    },
    {
     "data": {
      "image/png": "[encoded data removed]",
      "text/plain": [
       "<Figure size 432x288 with 2 Axes>"
      ]
     },
     "metadata": {
      "needs_background": "light"
     },
     "output_type": "display_data"
    }
   ],
   "source": [
    "X_train, X_test, y_train, y_test = train_test_split(features, df.target, test_size=0.2, random_state=42)\n",
    "\n",
    "model = LogisticRegression(max_iter=1000)\n",
    "model.fit(X_train, y_train)\n",
    "predicted = model.predict(X_test)\n",
    "print(classification_report(y_test, predicted))\n",
    "conf_matrix(y_test, predicted)"
   ]
  },
  {
   "cell_type": "markdown",
   "id": "1e490784",
   "metadata": {},
   "source": [
    "# Итог:\n",
    "    Лучше всего себя показал самый простой способ векторизации текста(CountVectorizer) и логистическая регрессия.\n",
    "    Далее можно попробовать оптимизировать гиперпараметры с помощью Greadsearch"
   ]
  },
  {
   "cell_type": "code",
   "execution_count": null,
   "id": "e36c37e8",
   "metadata": {},
   "outputs": [],
   "source": []
  }
 ],
 "metadata": {
  "kernelspec": {
   "display_name": "Python 3 (ipykernel)",
   "language": "python",
   "name": "python3"
  },
  "language_info": {
   "codemirror_mode": {
    "name": "ipython",
    "version": 3
   },
   "file_extension": ".py",
   "mimetype": "text/x-python",
   "name": "python",
   "nbconvert_exporter": "python",
   "pygments_lexer": "ipython3",
   "version": "3.9.7"
  }
 },
 "nbformat": 4,
 "nbformat_minor": 5
}
